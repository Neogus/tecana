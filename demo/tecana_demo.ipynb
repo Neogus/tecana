{
  "cells": [
    {
      "cell_type": "markdown",
      "metadata": {
        "id": "7ccP27ZcYpnk"
      },
      "source": [
        "# Tecana Technical Analysis Library Demo\n",
        "\n",
        "This notebook demonstrates how to use the Tecana library for technical analysis of financial market data."
      ]
    },
    {
      "cell_type": "markdown",
      "metadata": {
        "id": "m6mdqtt8Ypnm"
      },
      "source": [
        "## Installation\n",
        "\n",
        "First, let's install the library using pip:"
      ]
    },
    {
      "cell_type": "code",
      "execution_count": 1,
      "metadata": {
        "colab": {
          "base_uri": "https://localhost:8080/"
        },
        "id": "1Z9czR4oYpnm",
        "outputId": "a3a9c7d1-dfdc-4137-a050-7b3880000a03"
      },
      "outputs": [
        {
          "output_type": "stream",
          "name": "stdout",
          "text": [
            "Collecting tecana\n",
            "  Downloading tecana-0.4.0-py3-none-any.whl.metadata (1.3 kB)\n",
            "Requirement already satisfied: numpy>=1.20.0 in /usr/local/lib/python3.11/dist-packages (from tecana) (2.0.2)\n",
            "Requirement already satisfied: pandas>=1.3.0 in /usr/local/lib/python3.11/dist-packages (from tecana) (2.2.2)\n",
            "Requirement already satisfied: python-dateutil>=2.8.2 in /usr/local/lib/python3.11/dist-packages (from pandas>=1.3.0->tecana) (2.9.0.post0)\n",
            "Requirement already satisfied: pytz>=2020.1 in /usr/local/lib/python3.11/dist-packages (from pandas>=1.3.0->tecana) (2025.2)\n",
            "Requirement already satisfied: tzdata>=2022.7 in /usr/local/lib/python3.11/dist-packages (from pandas>=1.3.0->tecana) (2025.2)\n",
            "Requirement already satisfied: six>=1.5 in /usr/local/lib/python3.11/dist-packages (from python-dateutil>=2.8.2->pandas>=1.3.0->tecana) (1.17.0)\n",
            "Downloading tecana-0.4.0-py3-none-any.whl (27 kB)\n",
            "Installing collected packages: tecana\n",
            "Successfully installed tecana-0.4.0\n"
          ]
        }
      ],
      "source": [
        "!pip install tecana"
      ]
    },
    {
      "cell_type": "markdown",
      "metadata": {
        "id": "bzSnb1PvYpnn"
      },
      "source": [
        "## Import Libraries"
      ]
    },
    {
      "cell_type": "code",
      "execution_count": 3,
      "metadata": {
        "id": "0U5HFXLJYpno"
      },
      "outputs": [],
      "source": [
        "import tecana as tec\n",
        "import pandas as pd\n",
        "import numpy as np\n",
        "import matplotlib.pyplot as plt\n",
        "\n",
        "# Set up plotting\n",
        "%matplotlib inline\n",
        "plt.style.use('seaborn-v0_8-darkgrid')\n",
        "plt.rcParams['figure.figsize'] = (14, 8)"
      ]
    },
    {
      "cell_type": "markdown",
      "metadata": {
        "id": "LqRMZlL4Ypno"
      },
      "source": [
        "## Generate Sample OHLCV Data\n",
        "\n",
        "Let's create a realistic OHLCV (Open-High-Low-Close-Volume) dataset with random price movements:"
      ]
    },
    {
      "cell_type": "code",
      "execution_count": 4,
      "metadata": {
        "colab": {
          "base_uri": "https://localhost:8080/",
          "height": 225
        },
        "id": "SDRK8wy_Ypno",
        "outputId": "14fa0ba7-e008-4460-e6f5-cc8ec5b87e98"
      },
      "outputs": [
        {
          "output_type": "stream",
          "name": "stdout",
          "text": [
            "Generated 200 days of OHLCV data\n"
          ]
        },
        {
          "output_type": "execute_result",
          "data": {
            "text/plain": [
              "              open    high     low   close  volume\n",
              "2024-11-14  100.00  102.58   98.63  100.99  101986\n",
              "2024-11-15  100.85  101.38   99.03  100.88  101718\n",
              "2024-11-16  100.64  105.37   98.55  104.91  112085\n",
              "2024-11-17  105.72  107.03  104.95  106.27  106088\n",
              "2024-11-18  106.85  110.77  105.85  109.52  111978"
            ],
            "text/html": [
              "\n",
              "  <div id=\"df-a876aa79-6ba0-4132-86d7-caa4f1b54271\" class=\"colab-df-container\">\n",
              "    <div>\n",
              "<style scoped>\n",
              "    .dataframe tbody tr th:only-of-type {\n",
              "        vertical-align: middle;\n",
              "    }\n",
              "\n",
              "    .dataframe tbody tr th {\n",
              "        vertical-align: top;\n",
              "    }\n",
              "\n",
              "    .dataframe thead th {\n",
              "        text-align: right;\n",
              "    }\n",
              "</style>\n",
              "<table border=\"1\" class=\"dataframe\">\n",
              "  <thead>\n",
              "    <tr style=\"text-align: right;\">\n",
              "      <th></th>\n",
              "      <th>open</th>\n",
              "      <th>high</th>\n",
              "      <th>low</th>\n",
              "      <th>close</th>\n",
              "      <th>volume</th>\n",
              "    </tr>\n",
              "  </thead>\n",
              "  <tbody>\n",
              "    <tr>\n",
              "      <th>2024-11-14</th>\n",
              "      <td>100.00</td>\n",
              "      <td>102.58</td>\n",
              "      <td>98.63</td>\n",
              "      <td>100.99</td>\n",
              "      <td>101986</td>\n",
              "    </tr>\n",
              "    <tr>\n",
              "      <th>2024-11-15</th>\n",
              "      <td>100.85</td>\n",
              "      <td>101.38</td>\n",
              "      <td>99.03</td>\n",
              "      <td>100.88</td>\n",
              "      <td>101718</td>\n",
              "    </tr>\n",
              "    <tr>\n",
              "      <th>2024-11-16</th>\n",
              "      <td>100.64</td>\n",
              "      <td>105.37</td>\n",
              "      <td>98.55</td>\n",
              "      <td>104.91</td>\n",
              "      <td>112085</td>\n",
              "    </tr>\n",
              "    <tr>\n",
              "      <th>2024-11-17</th>\n",
              "      <td>105.72</td>\n",
              "      <td>107.03</td>\n",
              "      <td>104.95</td>\n",
              "      <td>106.27</td>\n",
              "      <td>106088</td>\n",
              "    </tr>\n",
              "    <tr>\n",
              "      <th>2024-11-18</th>\n",
              "      <td>106.85</td>\n",
              "      <td>110.77</td>\n",
              "      <td>105.85</td>\n",
              "      <td>109.52</td>\n",
              "      <td>111978</td>\n",
              "    </tr>\n",
              "  </tbody>\n",
              "</table>\n",
              "</div>\n",
              "    <div class=\"colab-df-buttons\">\n",
              "\n",
              "  <div class=\"colab-df-container\">\n",
              "    <button class=\"colab-df-convert\" onclick=\"convertToInteractive('df-a876aa79-6ba0-4132-86d7-caa4f1b54271')\"\n",
              "            title=\"Convert this dataframe to an interactive table.\"\n",
              "            style=\"display:none;\">\n",
              "\n",
              "  <svg xmlns=\"http://www.w3.org/2000/svg\" height=\"24px\" viewBox=\"0 -960 960 960\">\n",
              "    <path d=\"M120-120v-720h720v720H120Zm60-500h600v-160H180v160Zm220 220h160v-160H400v160Zm0 220h160v-160H400v160ZM180-400h160v-160H180v160Zm440 0h160v-160H620v160ZM180-180h160v-160H180v160Zm440 0h160v-160H620v160Z\"/>\n",
              "  </svg>\n",
              "    </button>\n",
              "\n",
              "  <style>\n",
              "    .colab-df-container {\n",
              "      display:flex;\n",
              "      gap: 12px;\n",
              "    }\n",
              "\n",
              "    .colab-df-convert {\n",
              "      background-color: #E8F0FE;\n",
              "      border: none;\n",
              "      border-radius: 50%;\n",
              "      cursor: pointer;\n",
              "      display: none;\n",
              "      fill: #1967D2;\n",
              "      height: 32px;\n",
              "      padding: 0 0 0 0;\n",
              "      width: 32px;\n",
              "    }\n",
              "\n",
              "    .colab-df-convert:hover {\n",
              "      background-color: #E2EBFA;\n",
              "      box-shadow: 0px 1px 2px rgba(60, 64, 67, 0.3), 0px 1px 3px 1px rgba(60, 64, 67, 0.15);\n",
              "      fill: #174EA6;\n",
              "    }\n",
              "\n",
              "    .colab-df-buttons div {\n",
              "      margin-bottom: 4px;\n",
              "    }\n",
              "\n",
              "    [theme=dark] .colab-df-convert {\n",
              "      background-color: #3B4455;\n",
              "      fill: #D2E3FC;\n",
              "    }\n",
              "\n",
              "    [theme=dark] .colab-df-convert:hover {\n",
              "      background-color: #434B5C;\n",
              "      box-shadow: 0px 1px 3px 1px rgba(0, 0, 0, 0.15);\n",
              "      filter: drop-shadow(0px 1px 2px rgba(0, 0, 0, 0.3));\n",
              "      fill: #FFFFFF;\n",
              "    }\n",
              "  </style>\n",
              "\n",
              "    <script>\n",
              "      const buttonEl =\n",
              "        document.querySelector('#df-a876aa79-6ba0-4132-86d7-caa4f1b54271 button.colab-df-convert');\n",
              "      buttonEl.style.display =\n",
              "        google.colab.kernel.accessAllowed ? 'block' : 'none';\n",
              "\n",
              "      async function convertToInteractive(key) {\n",
              "        const element = document.querySelector('#df-a876aa79-6ba0-4132-86d7-caa4f1b54271');\n",
              "        const dataTable =\n",
              "          await google.colab.kernel.invokeFunction('convertToInteractive',\n",
              "                                                    [key], {});\n",
              "        if (!dataTable) return;\n",
              "\n",
              "        const docLinkHtml = 'Like what you see? Visit the ' +\n",
              "          '<a target=\"_blank\" href=https://colab.research.google.com/notebooks/data_table.ipynb>data table notebook</a>'\n",
              "          + ' to learn more about interactive tables.';\n",
              "        element.innerHTML = '';\n",
              "        dataTable['output_type'] = 'display_data';\n",
              "        await google.colab.output.renderOutput(dataTable, element);\n",
              "        const docLink = document.createElement('div');\n",
              "        docLink.innerHTML = docLinkHtml;\n",
              "        element.appendChild(docLink);\n",
              "      }\n",
              "    </script>\n",
              "  </div>\n",
              "\n",
              "\n",
              "    <div id=\"df-af8916ba-2924-4f1c-b968-a23906e330e6\">\n",
              "      <button class=\"colab-df-quickchart\" onclick=\"quickchart('df-af8916ba-2924-4f1c-b968-a23906e330e6')\"\n",
              "                title=\"Suggest charts\"\n",
              "                style=\"display:none;\">\n",
              "\n",
              "<svg xmlns=\"http://www.w3.org/2000/svg\" height=\"24px\"viewBox=\"0 0 24 24\"\n",
              "     width=\"24px\">\n",
              "    <g>\n",
              "        <path d=\"M19 3H5c-1.1 0-2 .9-2 2v14c0 1.1.9 2 2 2h14c1.1 0 2-.9 2-2V5c0-1.1-.9-2-2-2zM9 17H7v-7h2v7zm4 0h-2V7h2v10zm4 0h-2v-4h2v4z\"/>\n",
              "    </g>\n",
              "</svg>\n",
              "      </button>\n",
              "\n",
              "<style>\n",
              "  .colab-df-quickchart {\n",
              "      --bg-color: #E8F0FE;\n",
              "      --fill-color: #1967D2;\n",
              "      --hover-bg-color: #E2EBFA;\n",
              "      --hover-fill-color: #174EA6;\n",
              "      --disabled-fill-color: #AAA;\n",
              "      --disabled-bg-color: #DDD;\n",
              "  }\n",
              "\n",
              "  [theme=dark] .colab-df-quickchart {\n",
              "      --bg-color: #3B4455;\n",
              "      --fill-color: #D2E3FC;\n",
              "      --hover-bg-color: #434B5C;\n",
              "      --hover-fill-color: #FFFFFF;\n",
              "      --disabled-bg-color: #3B4455;\n",
              "      --disabled-fill-color: #666;\n",
              "  }\n",
              "\n",
              "  .colab-df-quickchart {\n",
              "    background-color: var(--bg-color);\n",
              "    border: none;\n",
              "    border-radius: 50%;\n",
              "    cursor: pointer;\n",
              "    display: none;\n",
              "    fill: var(--fill-color);\n",
              "    height: 32px;\n",
              "    padding: 0;\n",
              "    width: 32px;\n",
              "  }\n",
              "\n",
              "  .colab-df-quickchart:hover {\n",
              "    background-color: var(--hover-bg-color);\n",
              "    box-shadow: 0 1px 2px rgba(60, 64, 67, 0.3), 0 1px 3px 1px rgba(60, 64, 67, 0.15);\n",
              "    fill: var(--button-hover-fill-color);\n",
              "  }\n",
              "\n",
              "  .colab-df-quickchart-complete:disabled,\n",
              "  .colab-df-quickchart-complete:disabled:hover {\n",
              "    background-color: var(--disabled-bg-color);\n",
              "    fill: var(--disabled-fill-color);\n",
              "    box-shadow: none;\n",
              "  }\n",
              "\n",
              "  .colab-df-spinner {\n",
              "    border: 2px solid var(--fill-color);\n",
              "    border-color: transparent;\n",
              "    border-bottom-color: var(--fill-color);\n",
              "    animation:\n",
              "      spin 1s steps(1) infinite;\n",
              "  }\n",
              "\n",
              "  @keyframes spin {\n",
              "    0% {\n",
              "      border-color: transparent;\n",
              "      border-bottom-color: var(--fill-color);\n",
              "      border-left-color: var(--fill-color);\n",
              "    }\n",
              "    20% {\n",
              "      border-color: transparent;\n",
              "      border-left-color: var(--fill-color);\n",
              "      border-top-color: var(--fill-color);\n",
              "    }\n",
              "    30% {\n",
              "      border-color: transparent;\n",
              "      border-left-color: var(--fill-color);\n",
              "      border-top-color: var(--fill-color);\n",
              "      border-right-color: var(--fill-color);\n",
              "    }\n",
              "    40% {\n",
              "      border-color: transparent;\n",
              "      border-right-color: var(--fill-color);\n",
              "      border-top-color: var(--fill-color);\n",
              "    }\n",
              "    60% {\n",
              "      border-color: transparent;\n",
              "      border-right-color: var(--fill-color);\n",
              "    }\n",
              "    80% {\n",
              "      border-color: transparent;\n",
              "      border-right-color: var(--fill-color);\n",
              "      border-bottom-color: var(--fill-color);\n",
              "    }\n",
              "    90% {\n",
              "      border-color: transparent;\n",
              "      border-bottom-color: var(--fill-color);\n",
              "    }\n",
              "  }\n",
              "</style>\n",
              "\n",
              "      <script>\n",
              "        async function quickchart(key) {\n",
              "          const quickchartButtonEl =\n",
              "            document.querySelector('#' + key + ' button');\n",
              "          quickchartButtonEl.disabled = true;  // To prevent multiple clicks.\n",
              "          quickchartButtonEl.classList.add('colab-df-spinner');\n",
              "          try {\n",
              "            const charts = await google.colab.kernel.invokeFunction(\n",
              "                'suggestCharts', [key], {});\n",
              "          } catch (error) {\n",
              "            console.error('Error during call to suggestCharts:', error);\n",
              "          }\n",
              "          quickchartButtonEl.classList.remove('colab-df-spinner');\n",
              "          quickchartButtonEl.classList.add('colab-df-quickchart-complete');\n",
              "        }\n",
              "        (() => {\n",
              "          let quickchartButtonEl =\n",
              "            document.querySelector('#df-af8916ba-2924-4f1c-b968-a23906e330e6 button');\n",
              "          quickchartButtonEl.style.display =\n",
              "            google.colab.kernel.accessAllowed ? 'block' : 'none';\n",
              "        })();\n",
              "      </script>\n",
              "    </div>\n",
              "\n",
              "    </div>\n",
              "  </div>\n"
            ],
            "application/vnd.google.colaboratory.intrinsic+json": {
              "type": "dataframe",
              "variable_name": "ohlcv_data",
              "summary": "{\n  \"name\": \"ohlcv_data\",\n  \"rows\": 200,\n  \"fields\": [\n    {\n      \"column\": \"open\",\n      \"properties\": {\n        \"dtype\": \"number\",\n        \"std\": 90749.62889865362,\n        \"min\": 100.0,\n        \"max\": 251489.78,\n        \"num_unique_values\": 200,\n        \"samples\": [\n          182546.94,\n          162.39,\n          662.44\n        ],\n        \"semantic_type\": \"\",\n        \"description\": \"\"\n      }\n    },\n    {\n      \"column\": \"high\",\n      \"properties\": {\n        \"dtype\": \"number\",\n        \"std\": 92469.48595936297,\n        \"min\": 101.38,\n        \"max\": 259680.02,\n        \"num_unique_values\": 200,\n        \"samples\": [\n          185046.77,\n          176.17,\n          722.51\n        ],\n        \"semantic_type\": \"\",\n        \"description\": \"\"\n      }\n    },\n    {\n      \"column\": \"low\",\n      \"properties\": {\n        \"dtype\": \"number\",\n        \"std\": 88801.77978852607,\n        \"min\": 98.55,\n        \"max\": 242753.62,\n        \"num_unique_values\": 200,\n        \"samples\": [\n          181270.0,\n          158.33,\n          654.02\n        ],\n        \"semantic_type\": \"\",\n        \"description\": \"\"\n      }\n    },\n    {\n      \"column\": \"close\",\n      \"properties\": {\n        \"dtype\": \"number\",\n        \"std\": 90688.9101474597,\n        \"min\": 100.88,\n        \"max\": 255009.17,\n        \"num_unique_values\": 200,\n        \"samples\": [\n          183848.07,\n          175.1,\n          717.21\n        ],\n        \"semantic_type\": \"\",\n        \"description\": \"\"\n      }\n    },\n    {\n      \"column\": \"volume\",\n      \"properties\": {\n        \"dtype\": \"number\",\n        \"std\": 46119,\n        \"min\": 50575,\n        \"max\": 201149,\n        \"num_unique_values\": 200,\n        \"samples\": [\n          100154,\n          143384,\n          165564\n        ],\n        \"semantic_type\": \"\",\n        \"description\": \"\"\n      }\n    }\n  ]\n}"
            }
          },
          "metadata": {},
          "execution_count": 4
        }
      ],
      "source": [
        "def generate_ohlc_data(days=200, start_price=100.00):\n",
        "    np.random.seed(42)  # For reproducibility\n",
        "\n",
        "    # Generate dates\n",
        "    dates = pd.date_range(end=pd.Timestamp.now().normalize(), periods=days)\n",
        "\n",
        "    # Initial price\n",
        "    price = start_price\n",
        "\n",
        "    # Lists to store OHLCV data\n",
        "    opens = []\n",
        "    highs = []\n",
        "    lows = []\n",
        "    closes = []\n",
        "    volumes = []\n",
        "\n",
        "    # Generate price movement with some trend and volatility\n",
        "    for i in range(days):\n",
        "        # Daily volatility (percentage)\n",
        "        volatility = max(0.5, min(5.0, 2.0 + 0.5 * np.sin(i/20)))\n",
        "\n",
        "        # Daily trend component (can create periods of up/down trends)\n",
        "        trend = 0.1 * np.sin(i/40) + 0.05 * np.sin(i/20)\n",
        "\n",
        "        # Generate open price with some gap from previous close\n",
        "        if i == 0:\n",
        "            open_price = price\n",
        "        else:\n",
        "            # Possible gap up/down on open (±1%)\n",
        "            gap = np.random.normal(0, 0.01)\n",
        "            open_price = closes[-1] * (1 + gap)\n",
        "\n",
        "        # Generate daily range and close\n",
        "        daily_change = np.random.normal(trend, volatility/100)\n",
        "        close_price = open_price * (1 + daily_change)\n",
        "\n",
        "        # Generate high and low with realistic relationships\n",
        "        price_range = max(open_price, close_price) * (volatility/100)\n",
        "        high_price = max(open_price, close_price) + price_range * np.random.uniform(0.2, 1.0)\n",
        "        low_price = min(open_price, close_price) - price_range * np.random.uniform(0.2, 1.0)\n",
        "\n",
        "        # Generate volume (higher on larger price moves)\n",
        "        base_volume = 100000 + 50000 * np.sin(i/30)  # Cyclical volume pattern\n",
        "        volume = int(base_volume * (1 + 2 * abs(daily_change)))\n",
        "\n",
        "        # Round prices to 2 decimal places\n",
        "        open_price = round(open_price, 2)\n",
        "        high_price = round(high_price, 2)\n",
        "        low_price = round(low_price, 2)\n",
        "        close_price = round(close_price, 2)\n",
        "\n",
        "        # Store values\n",
        "        opens.append(open_price)\n",
        "        highs.append(high_price)\n",
        "        lows.append(low_price)\n",
        "        closes.append(close_price)\n",
        "        volumes.append(volume)\n",
        "\n",
        "        # Update price for trend continuity\n",
        "        price = close_price\n",
        "\n",
        "    # Create DataFrame\n",
        "    df = pd.DataFrame({\n",
        "        'open': opens,\n",
        "        'high': highs,\n",
        "        'low': lows,\n",
        "        'close': closes,\n",
        "        'volume': volumes\n",
        "    }, index=dates)\n",
        "\n",
        "    return df\n",
        "\n",
        "# Generate our test data\n",
        "ohlcv_data = generate_ohlc_data(days=200, start_price=100.00)\n",
        "\n",
        "# Display the first few rows\n",
        "print(f\"Generated {len(ohlcv_data)} days of OHLCV data\")\n",
        "ohlcv_data.head()"
      ]
    },
    {
      "cell_type": "markdown",
      "metadata": {
        "id": "uvw9kWF8Ypnp"
      },
      "source": [
        "Let's plot our price data to verify it looks realistic:"
      ]
    },
    {
      "cell_type": "code",
      "execution_count": 5,
      "metadata": {
        "colab": {
          "base_uri": "https://localhost:8080/",
          "height": 634
        },
        "id": "lj7y-Zn5Ypnp",
        "outputId": "13318bca-b71f-4b47-8147-82e698f761ba"
      },
      "outputs": [
        {
          "output_type": "display_data",
          "data": {
            "text/plain": [
              "<Figure size 1500x700 with 1 Axes>"
            ],
            "image/png": "[encoded data removed]"
          },
          "metadata": {}
        }
      ],
      "source": [
        "plt.figure(figsize=(15, 7))\n",
        "plt.plot(ohlcv_data.index, ohlcv_data['close'], label='Close Price')\n",
        "plt.title('Sample Price Data')\n",
        "plt.xlabel('Date')\n",
        "plt.ylabel('Price')\n",
        "plt.legend()\n",
        "plt.grid(True)\n",
        "plt.show()"
      ]
    },
    {
      "cell_type": "markdown",
      "metadata": {
        "id": "HAtgYxxJYpnq"
      },
      "source": [
        "## Basic Technical Indicators\n",
        "\n",
        "Let's calculate some basic technical indicators using the Tecana library:"
      ]
    },
    {
      "cell_type": "code",
      "execution_count": null,
      "metadata": {
        "id": "mRS2t00UYpnq"
      },
      "outputs": [],
      "source": [
        "# Calculate RSI (Relative Strength Index)\n",
        "df_rsi = tec.rsi(ohlcv_data, 14)\n",
        "print(\"RSI added. New columns:\", [col for col in df_rsi.columns if col not in ohlcv_data.columns])\n",
        "\n",
        "# Calculate MACD (Moving Average Convergence Divergence)\n",
        "df_macd = tec.macd(df_rsi)\n",
        "print(\"MACD added. New columns:\", [col for col in df_macd.columns if col not in df_rsi.columns])\n",
        "\n",
        "# Calculate Bollinger Bands\n",
        "df_bb = tec.bb(df_macd, 20)\n",
        "print(\"Bollinger Bands added. New columns:\", [col for col in df_bb.columns if col not in df_macd.columns])\n",
        "\n",
        "# Calculate Average True Range\n",
        "df_atr = tec.atr(df_bb, 14)\n",
        "print(\"ATR added. New columns:\", [col for col in df_atr.columns if col not in df_bb.columns])"
      ]
    },
    {
      "cell_type": "markdown",
      "metadata": {
        "id": "IGEMMt2FYpnq"
      },
      "source": [
        "Let's visualize a couple of these indicators:"
      ]
    },
    {
      "cell_type": "code",
      "execution_count": null,
      "metadata": {
        "id": "KdASEMCzYpnr"
      },
      "outputs": [],
      "source": [
        "fig, (ax1, ax2) = plt.subplots(2, 1, figsize=(15, 10), gridspec_kw={'height_ratios': [3, 1]})\n",
        "\n",
        "# Price and Bollinger Bands\n",
        "ax1.plot(df_atr.index, df_atr['close'], label='Close Price')\n",
        "ax1.plot(df_atr.index, df_atr['bbh'], 'r--', label='Upper BB')\n",
        "ax1.plot(df_atr.index, df_atr['bbl'], 'g--', label='Lower BB')\n",
        "ax1.fill_between(df_atr.index, df_atr['bbh'], df_atr['bbl'], alpha=0.1, color='gray')\n",
        "ax1.set_title('Price with Bollinger Bands')\n",
        "ax1.set_ylabel('Price')\n",
        "ax1.legend()\n",
        "ax1.grid(True)\n",
        "\n",
        "# RSI\n",
        "ax2.plot(df_atr.index, df_atr['rsi'], label='RSI')\n",
        "ax2.axhline(y=70, color='r', linestyle='-', alpha=0.3)\n",
        "ax2.axhline(y=30, color='g', linestyle='-', alpha=0.3)\n",
        "ax2.fill_between(df_atr.index, 70, 30, alpha=0.1, color='gray')\n",
        "ax2.set_title('RSI (14)')\n",
        "ax2.set_ylabel('RSI')\n",
        "ax2.set_ylim(0, 100)\n",
        "ax2.legend()\n",
        "ax2.grid(True)\n",
        "\n",
        "plt.tight_layout()\n",
        "plt.show()"
      ]
    },
    {
      "cell_type": "markdown",
      "metadata": {
        "id": "OisrvESDYpnr"
      },
      "source": [
        "## Generate Trading Signals\n",
        "\n",
        "Now, let's calculate some trading signals using the indicators we've generated.\n",
        "For signal interpretation:\n",
        "- '-1' indicates a BUY signal (bullish)\n",
        "- '1' indicates a SELL signal (bearish)"
      ]
    },
    {
      "cell_type": "code",
      "execution_count": null,
      "metadata": {
        "id": "Zuigqr0WYpnr"
      },
      "outputs": [],
      "source": [
        "# Calculate trend signals\n",
        "df_signals = tec.macd_t(df_atr.copy())  # MACD trend signal\n",
        "df_signals = tec.rsi_z(df_signals)      # RSI zone signal\n",
        "df_signals = tec.bb_t(df_signals)       # Bollinger Bands trend signal\n",
        "\n",
        "# Calculate volatility signal\n",
        "df_signals = tec.atr_v(df_signals, threshold=1.5)  # ATR volatility signal\n",
        "\n",
        "# Display the signals\n",
        "signal_cols = ['macd_t', 'rsi_z', 'bb_t', 'atr_v']\n",
        "print(\"Signal summary for last 10 days:\")\n",
        "df_signals[signal_cols].tail(10)"
      ]
    },
    {
      "cell_type": "markdown",
      "metadata": {
        "id": "08WJ9EbgYpns"
      },
      "source": [
        "### Explanation of Signals\n",
        "\n",
        "- **macd_t**: MACD trend signal\n",
        "  - -1: Buy signal when MACD histogram is positive\n",
        "  - 1: Sell signal when MACD histogram is negative\n",
        "\n",
        "- **rsi_z**: RSI zone signal (overbought/oversold)\n",
        "  - -1: Buy signal when RSI is in oversold zone\n",
        "  - 1: Sell signal when RSI is in overbought zone\n",
        "\n",
        "- **bb_t**: Bollinger Bands trend signal\n",
        "  - -1: Buy signal when price touches lower band with positive momentum\n",
        "  - 1: Sell signal when price touches upper band with negative momentum\n",
        "  \n",
        "- **atr_v**: ATR volatility signal (not a buy/sell signal)\n",
        "  - 1: Indicates high volatility (ATR above threshold)\n",
        "  - NaN: Normal volatility"
      ]
    },
    {
      "cell_type": "markdown",
      "metadata": {
        "id": "pWJwcb-nYpns"
      },
      "source": [
        "## Using the Custom Method\n",
        "\n",
        "The `custom` method allows applying multiple indicators and signals in a single call."
      ]
    },
    {
      "cell_type": "code",
      "execution_count": null,
      "metadata": {
        "id": "RSAWfN2lYpns"
      },
      "outputs": [],
      "source": [
        "# Use the custom method to apply multiple indicators at once\n",
        "custom_df = tec.custom(ohlcv_data,\n",
        "    ['rsi', 14],                  # RSI with window=14\n",
        "    ['macd'],                     # MACD with default parameters\n",
        "    ['bb', 20, 2],                # Bollinger Bands with window=20 and std=2\n",
        "    ['atr', {'window': 14}]       # ATR with window=14 (using kwargs)\n",
        ")\n",
        "\n",
        "# Add multiple signals using custom method\n",
        "custom_signals = tec.custom(custom_df,\n",
        "    ['rsi_z'],                    # RSI zone signal (using default parameters)\n",
        "    ['macd_t'],                   # MACD trend signal\n",
        "    ['bb_t', 14],                 # BB trend signal with custom parameter\n",
        "    ['atr_v', 1.2]                # ATR volatility signal with custom threshold\n",
        ")\n",
        "\n",
        "print(\"\\nIndicators added:\")\n",
        "print([col for col in custom_df.columns if col not in ohlcv_data.columns])\n",
        "\n",
        "print(\"\\nSignals added:\")\n",
        "print([col for col in custom_signals.columns if col not in custom_df.columns])\n",
        "\n",
        "# View signal values\n",
        "signal_cols = ['rsi_z', 'macd_t', 'bb_t', 'atr_v']\n",
        "print(\"\\nSignals for the last 5 days:\")\n",
        "custom_signals[signal_cols].tail()"
      ]
    },
    {
      "cell_type": "markdown",
      "metadata": {
        "id": "puIY1EiaYpns"
      },
      "source": [
        "## Visualize Signals On Price Chart\n",
        "\n",
        "Let's visualize buy and sell signals on a price chart:"
      ]
    },
    {
      "cell_type": "code",
      "execution_count": null,
      "metadata": {
        "id": "Cvj1-yAwYpns"
      },
      "outputs": [],
      "source": [
        "# Get buy and sell signals from MACD trend\n",
        "buy_signals = custom_signals[custom_signals['macd_t'] == -1].index\n",
        "sell_signals = custom_signals[custom_signals['macd_t'] == 1].index\n",
        "\n",
        "# Plot price with signals\n",
        "plt.figure(figsize=(15, 7))\n",
        "plt.plot(custom_signals.index, custom_signals['close'], label='Close Price', alpha=0.8)\n",
        "\n",
        "# Plot buy signals (green arrows)\n",
        "plt.scatter(buy_signals, custom_signals.loc[buy_signals, 'close'],\n",
        "            marker='^', color='green', s=100, label='Buy Signal', alpha=0.8)\n",
        "\n",
        "# Plot sell signals (red arrows)\n",
        "plt.scatter(sell_signals, custom_signals.loc[sell_signals, 'close'],\n",
        "            marker='v', color='red', s=100, label='Sell Signal', alpha=0.8)\n",
        "\n",
        "plt.title('Price Chart with MACD Buy/Sell Signals')\n",
        "plt.xlabel('Date')\n",
        "plt.ylabel('Price')\n",
        "plt.legend()\n",
        "plt.grid(True)\n",
        "plt.show()"
      ]
    },
    {
      "cell_type": "markdown",
      "metadata": {
        "id": "0u_4h9DTYpns"
      },
      "source": [
        "## Combined Signal Strategy\n",
        "\n",
        "Let's create a simple strategy that combines multiple signals:"
      ]
    },
    {
      "cell_type": "code",
      "execution_count": null,
      "metadata": {
        "id": "4p57x5ddYpnt"
      },
      "outputs": [],
      "source": [
        "# Create a combined signal (Buy when both MACD and RSI agree)\n",
        "custom_signals['combined_signal'] = 0\n",
        "\n",
        "# Strong buy signal when both MACD and RSI suggest buying\n",
        "custom_signals.loc[(custom_signals['macd_t'] == -1) &\n",
        "                   (custom_signals['rsi_z'] == -1), 'combined_signal'] = -1\n",
        "\n",
        "# Strong sell signal when both MACD and RSI suggest selling\n",
        "custom_signals.loc[(custom_signals['macd_t'] == 1) &\n",
        "                   (custom_signals['rsi_z'] == 1), 'combined_signal'] = 1\n",
        "\n",
        "# Count the number of buy and sell signals\n",
        "buy_count = (custom_signals['combined_signal'] == -1).sum()\n",
        "sell_count = (custom_signals['combined_signal'] == 1).sum()\n",
        "\n",
        "print(f\"Combined strategy generated {buy_count} buy signals and {sell_count} sell signals\")\n",
        "\n",
        "# Show the latest signals\n",
        "last_days = 15\n",
        "print(f\"\\nSignals for the last {last_days} days:\")\n",
        "custom_signals[['close', 'macd_t', 'rsi_z', 'combined_signal']].tail(last_days)"
      ]
    },
    {
      "cell_type": "markdown",
      "metadata": {
        "id": "NspdgDA-Ypnt"
      },
      "source": [
        "## Conclusion\n",
        "\n",
        "In this demo, we've shown how to:\n",
        "\n",
        "1. Install and import the Tecana library\n",
        "2. Generate sample OHLCV data\n",
        "3. Calculate various technical indicators\n",
        "4. Generate trading signals\n",
        "5. Use the powerful `custom` method to apply multiple indicators and signals at once\n",
        "6. Create a simple combined trading strategy\n",
        "\n",
        "The Tecana library offers a comprehensive set of technical indicators and signals with a clean, easy-to-use API. The `custom` method makes it particularly efficient to work with multiple indicators simultaneously."
      ]
    }
  ],
  "metadata": {
    "kernelspec": {
      "display_name": "Python 3",
      "language": "python",
      "name": "python3"
    },
    "language_info": {
      "codemirror_mode": {
        "name": "ipython",
        "version": 3
      },
      "file_extension": ".py",
      "mimetype": "text/x-python",
      "name": "python",
      "nbconvert_exporter": "python",
      "pygments_lexer": "ipython3",
      "version": "3.8.10"
    },
    "colab": {
      "provenance": []
    }
  },
  "nbformat": 4,
  "nbformat_minor": 0
}